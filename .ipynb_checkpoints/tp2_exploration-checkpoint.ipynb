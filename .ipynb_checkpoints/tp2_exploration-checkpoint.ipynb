{
 "cells": [
  {
   "cell_type": "markdown",
   "metadata": {},
   "source": [
    "# Trabajo Práctico 2: Entrenamiento y evaluación de modelos"
   ]
  },
  {
   "cell_type": "markdown",
   "metadata": {},
   "source": [
    "I) Se debe elegir y definir una métrica de performance a utilizar para evaluar los modelos. Fundamentar la elección de la métrica."
   ]
  },
  {
   "cell_type": "code",
   "execution_count": null,
   "metadata": {},
   "outputs": [],
   "source": []
  },
  {
   "cell_type": "markdown",
   "metadata": {},
   "source": [
    "II) Se debe aplicar alguna técnica de feature engineering para mejorar la data de entrada a los modelos. Si no es posible o útil, fundamentar el motivo por el cual no se realizará."
   ]
  },
  {
   "cell_type": "code",
   "execution_count": null,
   "metadata": {},
   "outputs": [],
   "source": []
  },
  {
   "cell_type": "markdown",
   "metadata": {},
   "source": [
    "III) Por cada modelo, se debe entrenarlo y evaluar su comportamiento con la métrica elegida. Sacar conclusiones respecto a los motivos por los cuales el modelo funciona bien o mal."
   ]
  },
  {
   "cell_type": "code",
   "execution_count": 6,
   "metadata": {
    "scrolled": true
   },
   "outputs": [
    {
     "data": {
      "text/html": [
       "<div>\n",
       "<style scoped>\n",
       "    .dataframe tbody tr th:only-of-type {\n",
       "        vertical-align: middle;\n",
       "    }\n",
       "\n",
       "    .dataframe tbody tr th {\n",
       "        vertical-align: top;\n",
       "    }\n",
       "\n",
       "    .dataframe thead th {\n",
       "        text-align: right;\n",
       "    }\n",
       "</style>\n",
       "<table border=\"1\" class=\"dataframe\">\n",
       "  <thead>\n",
       "    <tr style=\"text-align: right;\">\n",
       "      <th></th>\n",
       "      <th>Unnamed: 0</th>\n",
       "      <th>winner</th>\n",
       "      <th>firstBlood</th>\n",
       "      <th>firstTower</th>\n",
       "      <th>firstInhibitor</th>\n",
       "      <th>firstBaron</th>\n",
       "      <th>firstDragon</th>\n",
       "      <th>firstRiftHerald</th>\n",
       "      <th>t1_champ1id</th>\n",
       "      <th>t1_champ2id</th>\n",
       "      <th>...</th>\n",
       "      <th>t2_429</th>\n",
       "      <th>t2ban_429</th>\n",
       "      <th>t2_432</th>\n",
       "      <th>t2ban_432</th>\n",
       "      <th>t2_497</th>\n",
       "      <th>t2ban_497</th>\n",
       "      <th>t2_498</th>\n",
       "      <th>t2ban_498</th>\n",
       "      <th>t2_516</th>\n",
       "      <th>t2ban_516</th>\n",
       "    </tr>\n",
       "  </thead>\n",
       "  <tbody>\n",
       "    <tr>\n",
       "      <th>0</th>\n",
       "      <td>0</td>\n",
       "      <td>1</td>\n",
       "      <td>2</td>\n",
       "      <td>1</td>\n",
       "      <td>1</td>\n",
       "      <td>1</td>\n",
       "      <td>1</td>\n",
       "      <td>2</td>\n",
       "      <td>8</td>\n",
       "      <td>432</td>\n",
       "      <td>...</td>\n",
       "      <td>0</td>\n",
       "      <td>0</td>\n",
       "      <td>0</td>\n",
       "      <td>0</td>\n",
       "      <td>0</td>\n",
       "      <td>0</td>\n",
       "      <td>1</td>\n",
       "      <td>0</td>\n",
       "      <td>0</td>\n",
       "      <td>0</td>\n",
       "    </tr>\n",
       "    <tr>\n",
       "      <th>1</th>\n",
       "      <td>1</td>\n",
       "      <td>1</td>\n",
       "      <td>1</td>\n",
       "      <td>1</td>\n",
       "      <td>1</td>\n",
       "      <td>0</td>\n",
       "      <td>1</td>\n",
       "      <td>1</td>\n",
       "      <td>119</td>\n",
       "      <td>39</td>\n",
       "      <td>...</td>\n",
       "      <td>0</td>\n",
       "      <td>0</td>\n",
       "      <td>0</td>\n",
       "      <td>0</td>\n",
       "      <td>0</td>\n",
       "      <td>0</td>\n",
       "      <td>0</td>\n",
       "      <td>0</td>\n",
       "      <td>0</td>\n",
       "      <td>0</td>\n",
       "    </tr>\n",
       "    <tr>\n",
       "      <th>2</th>\n",
       "      <td>2</td>\n",
       "      <td>1</td>\n",
       "      <td>2</td>\n",
       "      <td>1</td>\n",
       "      <td>1</td>\n",
       "      <td>1</td>\n",
       "      <td>2</td>\n",
       "      <td>0</td>\n",
       "      <td>18</td>\n",
       "      <td>141</td>\n",
       "      <td>...</td>\n",
       "      <td>0</td>\n",
       "      <td>0</td>\n",
       "      <td>0</td>\n",
       "      <td>0</td>\n",
       "      <td>0</td>\n",
       "      <td>0</td>\n",
       "      <td>0</td>\n",
       "      <td>0</td>\n",
       "      <td>0</td>\n",
       "      <td>0</td>\n",
       "    </tr>\n",
       "    <tr>\n",
       "      <th>3</th>\n",
       "      <td>3</td>\n",
       "      <td>1</td>\n",
       "      <td>1</td>\n",
       "      <td>1</td>\n",
       "      <td>1</td>\n",
       "      <td>1</td>\n",
       "      <td>1</td>\n",
       "      <td>0</td>\n",
       "      <td>57</td>\n",
       "      <td>63</td>\n",
       "      <td>...</td>\n",
       "      <td>0</td>\n",
       "      <td>0</td>\n",
       "      <td>0</td>\n",
       "      <td>0</td>\n",
       "      <td>0</td>\n",
       "      <td>0</td>\n",
       "      <td>0</td>\n",
       "      <td>0</td>\n",
       "      <td>0</td>\n",
       "      <td>0</td>\n",
       "    </tr>\n",
       "    <tr>\n",
       "      <th>4</th>\n",
       "      <td>4</td>\n",
       "      <td>1</td>\n",
       "      <td>2</td>\n",
       "      <td>1</td>\n",
       "      <td>1</td>\n",
       "      <td>1</td>\n",
       "      <td>1</td>\n",
       "      <td>0</td>\n",
       "      <td>19</td>\n",
       "      <td>29</td>\n",
       "      <td>...</td>\n",
       "      <td>0</td>\n",
       "      <td>0</td>\n",
       "      <td>0</td>\n",
       "      <td>0</td>\n",
       "      <td>0</td>\n",
       "      <td>0</td>\n",
       "      <td>0</td>\n",
       "      <td>0</td>\n",
       "      <td>0</td>\n",
       "      <td>0</td>\n",
       "    </tr>\n",
       "  </tbody>\n",
       "</table>\n",
       "<p>5 rows × 590 columns</p>\n",
       "</div>"
      ],
      "text/plain": [
       "   Unnamed: 0  winner  firstBlood  firstTower  firstInhibitor  firstBaron  \\\n",
       "0           0       1           2           1               1           1   \n",
       "1           1       1           1           1               1           0   \n",
       "2           2       1           2           1               1           1   \n",
       "3           3       1           1           1               1           1   \n",
       "4           4       1           2           1               1           1   \n",
       "\n",
       "   firstDragon  firstRiftHerald  t1_champ1id  t1_champ2id  ...  t2_429  \\\n",
       "0            1                2            8          432  ...       0   \n",
       "1            1                1          119           39  ...       0   \n",
       "2            2                0           18          141  ...       0   \n",
       "3            1                0           57           63  ...       0   \n",
       "4            1                0           19           29  ...       0   \n",
       "\n",
       "   t2ban_429  t2_432  t2ban_432  t2_497  t2ban_497  t2_498  t2ban_498  t2_516  \\\n",
       "0          0       0          0       0          0       1          0       0   \n",
       "1          0       0          0       0          0       0          0       0   \n",
       "2          0       0          0       0          0       0          0       0   \n",
       "3          0       0          0       0          0       0          0       0   \n",
       "4          0       0          0       0          0       0          0       0   \n",
       "\n",
       "   t2ban_516  \n",
       "0          0  \n",
       "1          0  \n",
       "2          0  \n",
       "3          0  \n",
       "4          0  \n",
       "\n",
       "[5 rows x 590 columns]"
      ]
     },
     "execution_count": 6,
     "metadata": {},
     "output_type": "execute_result"
    }
   ],
   "source": [
    "import numpy\n",
    "import pandas\n",
    "import matplotlib\n",
    "import keras\n",
    "import h5py\n",
    "import PIL\n",
    "import seaborn\n",
    "import sklearn\n",
    "from matplotlib import pyplot as plt\n",
    "from sklearn.model_selection import train_test_split\n",
    "from sklearn.metrics import accuracy_score\n",
    "# Modelos a usar\n",
    "from sklearn.linear_model import LogisticRegression\n",
    "from sklearn.neural_network import MLPClassifier\n",
    "from sklearn import tree\n",
    "\n",
    "data_lol= pandas.read_csv(r'games_trans.csv', sep=',')\n",
    "\n",
    "data_lol.head(5)\n"
   ]
  },
  {
   "cell_type": "code",
   "execution_count": 7,
   "metadata": {},
   "outputs": [],
   "source": [
    "# Defino función general, se le pasa Entradas, Target y el Modelo ya creado a entrenar\n",
    "# Pinta con la meta Accuracy las predicciones para Train y Test\n",
    "def trainModel(inputs, target, model):\n",
    "    \n",
    "    # Separa los datos en train y test\n",
    "    inputsTrain, inputsTest, targetTrain, targetTest = train_test_split(inputs, target, test_size=0.33, random_state=101)\n",
    "\n",
    "    # Entrena el modelo \n",
    "    model.fit(inputsTrain, targetTrain)\n",
    "    \n",
    "    # Hace las predicciones con train y test\n",
    "    predictionsTrain = model.predict(inputsTrain)\n",
    "    predictionsTest = model.predict(inputsTest)\n",
    "    \n",
    "    # Muestra Accuracy para ambas predicciones\n",
    "    print('Accuracy Train:',accuracy_score(targetTrain, predictionsTrain))\n",
    "    print('Accuracy Test:',accuracy_score(targetTest, predictionsTest))\n",
    "    print('')"
   ]
  },
  {
   "cell_type": "code",
   "execution_count": 8,
   "metadata": {},
   "outputs": [],
   "source": [
    "# Defino las variables de entrada y el target\n",
    "\n",
    "#Para Barones y Dragon asesinados\n",
    "inputsBaronsDragons = data_lol[['t1_baronKills', 't1_dragonKills', 't2_baronKills', 't2_dragonKills']]\n",
    "targetBaronsDragons = data_lol['winner']\n",
    "\n",
    "#Para Torres e Inhibidores destruidos\n",
    "inputsTowersInhibitors = data_lol[['t1_towerKills','t1_inhibitorKills','t2_towerKills','t2_inhibitorKills']]\n",
    "targetTowersInhibitors = data_lol['winner']\n",
    "\n",
    "# lista de ids de los campeones\n",
    "data = []\n",
    "champions = pandas.read_json('champion_info_2.json')\n",
    "champion_ids = []\n",
    "for champion in sorted(champions.data.to_list(), key=lambda k: k['id']):\n",
    "    champion_ids.append(champion['id'])\n",
    "champion_ids = champion_ids[1:]\n",
    "\n",
    "for team in [\"1\", \"2\"]:\n",
    "    for champ_id in champion_ids:\n",
    "        data.append('t' + team + '_' + str(champ_id))\n",
    "        data.append('t' + team + 'ban_' + str(champ_id))\n",
    "        \n",
    "#Para Campeones elegidos y baneados\n",
    "inputsChampsAndBans = data_lol[data]\n",
    "targetChampsAndBans = data_lol['winner']"
   ]
  },
  {
   "cell_type": "markdown",
   "metadata": {},
   "source": [
    "A) REGRESIÓN LÓGISTICA"
   ]
  },
  {
   "cell_type": "code",
   "execution_count": 9,
   "metadata": {
    "scrolled": true
   },
   "outputs": [
    {
     "name": "stdout",
     "output_type": "stream",
     "text": [
      "Modelo para Barones y Dragones asesinados\n"
     ]
    },
    {
     "name": "stderr",
     "output_type": "stream",
     "text": [
      "/home/emiliano/Escritorio/ML_LOL/venv/lib/python3.6/site-packages/sklearn/linear_model/logistic.py:433: FutureWarning: Default solver will be changed to 'lbfgs' in 0.22. Specify a solver to silence this warning.\n",
      "  FutureWarning)\n"
     ]
    },
    {
     "name": "stdout",
     "output_type": "stream",
     "text": [
      "Accuracy Train: 0.8307148240477709\n",
      "Accuracy Test: 0.8273305084745762\n",
      "\n",
      "Modelo para Torres e Inhibidores destruidos\n",
      "Accuracy Train: 0.9568380775697142\n",
      "Accuracy Test: 0.9570386064030132\n",
      "\n",
      "Modelo para Campeones elegidos y baneados por cada equipo\n"
     ]
    },
    {
     "name": "stderr",
     "output_type": "stream",
     "text": [
      "/home/emiliano/Escritorio/ML_LOL/venv/lib/python3.6/site-packages/sklearn/linear_model/logistic.py:433: FutureWarning: Default solver will be changed to 'lbfgs' in 0.22. Specify a solver to silence this warning.\n",
      "  FutureWarning)\n",
      "/home/emiliano/Escritorio/ML_LOL/venv/lib/python3.6/site-packages/sklearn/linear_model/logistic.py:433: FutureWarning: Default solver will be changed to 'lbfgs' in 0.22. Specify a solver to silence this warning.\n",
      "  FutureWarning)\n"
     ]
    },
    {
     "name": "stdout",
     "output_type": "stream",
     "text": [
      "Accuracy Train: 0.5738303669777958\n",
      "Accuracy Test: 0.5471398305084746\n",
      "\n"
     ]
    }
   ],
   "source": [
    "# Crea el modelo de Regresión Logistica\n",
    "logModelBaronsDragons = LogisticRegression()\n",
    "print('Modelo para Barones y Dragones asesinados')\n",
    "# Entrena el modelo con los datos de Barones y Dragones asesinados por cada equipo\n",
    "trainModel(inputsBaronsDragons,targetBaronsDragons,logModelBaronsDragons)\n",
    "\n",
    "logModelTowersInhibitors = LogisticRegression()\n",
    "# Entrena el modelo con los datos de Torres e Inhibdores destruidos por cada equipo\n",
    "print('Modelo para Torres e Inhibidores destruidos')\n",
    "trainModel(inputsTowersInhibitors,targetTowersInhibitors,logModelTowersInhibitors)\n",
    "\n",
    "logModelChampsAndBans = LogisticRegression()\n",
    "# Entrena el modelo con los datos de Campeones elegidos y baneados por cada equipo\n",
    "print('Modelo para Campeones elegidos y baneados por cada equipo')\n",
    "trainModel(inputsChampsAndBans,targetChampsAndBans,logModelChampsAndBans)"
   ]
  },
  {
   "cell_type": "markdown",
   "metadata": {},
   "source": [
    "B) RED NEURONALES MLP"
   ]
  },
  {
   "cell_type": "code",
   "execution_count": 10,
   "metadata": {},
   "outputs": [
    {
     "name": "stdout",
     "output_type": "stream",
     "text": [
      "Modelo para Barones y Dragons asesinados\n",
      "Accuracy Train: 0.8345991071946199\n",
      "Accuracy Test: 0.8294491525423728\n",
      "\n",
      "Modelo para Torres e Inhibidores destruidos\n",
      "Accuracy Train: 0.9615629891587918\n",
      "Accuracy Test: 0.9615112994350282\n",
      "\n",
      "Modelo para Campeones elegidos y baneados por cada equipo\n",
      "Accuracy Train: 1.0\n",
      "Accuracy Test: 0.5083568738229756\n",
      "\n"
     ]
    }
   ],
   "source": [
    "# Crea el modelo de Red Neuronal MLP\n",
    "MLPModelBaronsDragons= MLPClassifier(activation='relu', solver='adam', hidden_layer_sizes=(50,), random_state=1)\n",
    "print('Modelo para Barones y Dragons asesinados')\n",
    "# Entrena el modelo con los datos de Barones y Dragones asesinados por cada equipo\n",
    "trainModel(inputsBaronsDragons,targetBaronsDragons,MLPModelBaronsDragons)\n",
    "\n",
    "MLPModelTowersInhibitors = MLPClassifier(activation='relu', solver='adam', hidden_layer_sizes=(50,), random_state=1)\n",
    "# Entrena el modelo con los datos de Torres e Inhibdores destruidos por cada equipo\n",
    "print('Modelo para Torres e Inhibidores destruidos')\n",
    "trainModel(inputsTowersInhibitors,targetTowersInhibitors,MLPModelTowersInhibitors)\n",
    "\n",
    "MLPModelChampsAndBans= MLPClassifier(activation='relu', solver='adam', hidden_layer_sizes=(50,), random_state=1)\n",
    "# Entrena el modelo con los datos de Campeones elegidos y baneados por cada equipo\n",
    "print('Modelo para Campeones elegidos y baneados por cada equipo')\n",
    "trainModel(inputsChampsAndBans,targetChampsAndBans,MLPModelChampsAndBans)\n"
   ]
  },
  {
   "cell_type": "markdown",
   "metadata": {},
   "source": [
    "C) ARBOLES DE DISICIÓN"
   ]
  },
  {
   "cell_type": "code",
   "execution_count": 11,
   "metadata": {},
   "outputs": [
    {
     "name": "stdout",
     "output_type": "stream",
     "text": [
      "Modelo para Barones y Dragons asesinados\n",
      "Accuracy Train: 0.8366861847063598\n",
      "Accuracy Test: 0.8289194915254238\n",
      "\n",
      "Modelo para Torres e Inhibidores destruidos\n",
      "Accuracy Train: 0.9657951185575976\n",
      "Accuracy Test: 0.9601577212806026\n",
      "\n",
      "Modelo para Campeones elegidos y baneados por cada equipo\n",
      "Accuracy Train: 1.0\n",
      "Accuracy Test: 0.5116525423728814\n",
      "\n"
     ]
    }
   ],
   "source": [
    "# Crea el modelo Árbol de decisión\n",
    "treeModelBaronsDragons = tree.DecisionTreeClassifier()\n",
    "print('Modelo para Barones y Dragons asesinados')\n",
    "# Entrena el modelo con los datos de Barones y Dragones asesinados por cada equipo\n",
    "trainModel(inputsBaronsDragons,targetBaronsDragons,treeModelBaronsDragons)\n",
    "\n",
    "treeModelTowersInhibitors = tree.DecisionTreeClassifier()\n",
    "# Entrena el modelo con los datos de Torres e Inhibdores destruidos por cada equipo\n",
    "print('Modelo para Torres e Inhibidores destruidos')\n",
    "trainModel(inputsTowersInhibitors,targetTowersInhibitors,treeModelTowersInhibitors)\n",
    "\n",
    "treeModelChampsAndBans = tree.DecisionTreeClassifier()\n",
    "# Entrena el modelo con los datos de Campeones elegidos y baneados por cada equipo\n",
    "print('Modelo para Campeones elegidos y baneados por cada equipo')\n",
    "trainModel(inputsChampsAndBans,targetChampsAndBans,treeModelChampsAndBans)\n"
   ]
  },
  {
   "cell_type": "markdown",
   "metadata": {},
   "source": [
    "IV) Se deben utilizar técnicas que garanticen que los modelos no están sobreentrenando sin que nos demos cuenta."
   ]
  },
  {
   "cell_type": "code",
   "execution_count": null,
   "metadata": {},
   "outputs": [],
   "source": []
  },
  {
   "cell_type": "markdown",
   "metadata": {},
   "source": [
    "V) Determinar el valor final de la métrica que podría ser informado al cliente, utilizando técnicas que permitan obtener un valor lo más realista posible. Fundamentar."
   ]
  },
  {
   "cell_type": "code",
   "execution_count": null,
   "metadata": {},
   "outputs": [],
   "source": []
  },
  {
   "cell_type": "code",
   "execution_count": null,
   "metadata": {},
   "outputs": [],
   "source": []
  },
  {
   "cell_type": "code",
   "execution_count": null,
   "metadata": {},
   "outputs": [],
   "source": []
  },
  {
   "cell_type": "code",
   "execution_count": null,
   "metadata": {},
   "outputs": [],
   "source": []
  }
 ],
 "metadata": {
  "kernelspec": {
   "display_name": "Python 3",
   "language": "python",
   "name": "python3"
  },
  "language_info": {
   "codemirror_mode": {
    "name": "ipython",
    "version": 3
   },
   "file_extension": ".py",
   "mimetype": "text/x-python",
   "name": "python",
   "nbconvert_exporter": "python",
   "pygments_lexer": "ipython3",
   "version": "3.6.6"
  }
 },
 "nbformat": 4,
 "nbformat_minor": 2
}
