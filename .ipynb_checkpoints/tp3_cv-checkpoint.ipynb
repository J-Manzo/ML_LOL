{
 "cells": [
  {
   "cell_type": "markdown",
   "metadata": {},
   "source": [
    "<h1>Trabajo Práctico 3: detectando barcos en el agua!<h1>"
   ]
  },
  {
   "cell_type": "code",
   "execution_count": null,
   "metadata": {},
   "outputs": [],
   "source": [
    "import numpy as np # Manejo de array\n",
    "import pandas as pd # Trabajar con tablas\n",
    "import os\n",
    "import matplotlib.pyplot as plt # Plotear grafico \n",
    "from PIL import Image # Trabajar con imágenes (abrir, transformarla, dibujarle arriba, convertir formato)\n",
    "from keras.models import Sequential\n",
    "from keras.layers import Dense, Input, Dropout, Convolution2D, MaxPooling2D, Flatten\n",
    "from sklearn.model_selection import train_test_split\n",
    "# classification_report = Crear un informe de texto que muestre las principales métricas de clasificación.\n",
    "# accuracy_score = calcular accuracy\n",
    "from sklearn.metrics import classification_report, accuracy_score, confusion_matrix\n",
    "#cuda para correr en nvidia\n",
    "from pathlib import Path # Manejar path (un archivo en un lugar, crear/borrar, etc.)\n",
    "#from IPython.display import Image\n",
    "import pickle\n",
    "import timeit\n",
    "\n",
    "%matplotlib inline"
   ]
  },
  {
   "cell_type": "code",
   "execution_count": null,
   "metadata": {
    "scrolled": true
   },
   "outputs": [],
   "source": [
    "# configuraciones generales de las imagenes\n",
    "PICTURE_SIZE = 80\n",
    "CHANNELS = 'rgb' # canales\n",
    "PATH_IMAGE = 'imagenes_tp3_cv/' #ubicación de las imágenes\n",
    "PATH_PKL = 'Archivos_pkl'\n",
    "\n",
    "INPUT_COLUMNS = []\n",
    "# Crea lista el nombre de las columas\n",
    "for color in CHANNELS:\n",
    "    INPUT_COLUMNS.extend(['%s%i' % (color, i) \n",
    "                              for i in range(PICTURE_SIZE ** 2)]) # For 80 * 80\n",
    "\n",
    "\n",
    "INPUT_COLUMNS.append('Barco')\n",
    "INPUT_COLUMNS.append('ImageName')\n",
    "print(INPUT_COLUMNS)\n",
    "\n",
    "    "
   ]
  },
  {
   "cell_type": "markdown",
   "metadata": {},
   "source": [
    "<p>Cada fila es una imagen. <p>\n",
    "<p>La imagen tiene 80 x 80 pixeles, y cada pixel tiene 3 valores, entonces tenemos 80 x 80 x 3 = 19.200‬ columnas.<p>"
   ]
  },
  {
   "cell_type": "code",
   "execution_count": null,
   "metadata": {
    "scrolled": false
   },
   "outputs": [],
   "source": [
    "print('Imagen')\n",
    "imagen = Image.open(PATH_IMAGE + '0__20160622_170157_0c64__-122.485753590087_37.835957669247584.png')\n",
    "imagen\n"
   ]
  },
  {
   "cell_type": "code",
   "execution_count": null,
   "metadata": {
    "scrolled": true
   },
   "outputs": [],
   "source": [
    "cant_image = len(os.listdir(PATH_IMAGE)) \n",
    "print('Hay ' + str(cant_image) + ' imagenes en la carpeta ' + PATH_IMAGE)"
   ]
  },
  {
   "cell_type": "code",
   "execution_count": null,
   "metadata": {
    "scrolled": false
   },
   "outputs": [],
   "source": [
    "#comienza a correr el tiempo\n",
    "start_time = timeit.default_timer()\n",
    "\n",
    "#lista de listas\n",
    "choclo = []\n",
    "# recorro todas las imagenes de la carpeta\n",
    "for archivo in os.listdir(PATH_IMAGE):\n",
    "    #print(archivo)\n",
    "    L_rojo = []\n",
    "    L_verde = []\n",
    "    L_azul = []\n",
    "    \n",
    "    Name_Image = archivo #nombre del archivo\n",
    "    Barco = archivo[0] #nombre del archivo\n",
    "    \n",
    "    imagen = Image.open(PATH_IMAGE + archivo) # abro la imagen\n",
    "    pixeles = list(imagen.getdata()) # trasformo a pixeles rgb\n",
    "    \n",
    "    for pixel in pixeles:\n",
    "        rojo, verde, azul = pixel\n",
    "        L_rojo.append(rojo)\n",
    "        L_verde.append(verde)\n",
    "        L_azul.append(azul)\n",
    "\n",
    "    \n",
    "    L_pixeles = []\n",
    "    \n",
    "    L_pixeles.extend(L_rojo)\n",
    "    L_pixeles.extend(L_verde)\n",
    "    L_pixeles.extend(L_azul)\n",
    "    L_pixeles.append(Barco)\n",
    "    L_pixeles.append(Name_Image)\n",
    "    \n",
    "    choclo.append(L_pixeles)\n",
    "\n",
    "#Tranforma la lista a dataframe\n",
    "df = pd.DataFrame(choclo)\n",
    "\n",
    "# code you want to evaluate\n",
    "elapsed = timeit.default_timer() - start_time\n",
    "\n",
    "print('Tiempo de ejecución ' + str(elapsed))\n",
    "df.head(5)"
   ]
  },
  {
   "cell_type": "code",
   "execution_count": null,
   "metadata": {},
   "outputs": [],
   "source": [
    "# Cambia el nombre de las columnas\n",
    "df.columns = INPUT_COLUMNS"
   ]
  },
  {
   "cell_type": "code",
   "execution_count": null,
   "metadata": {
    "scrolled": true
   },
   "outputs": [],
   "source": [
    "# genero el archivo\n",
    "df.to_pickle('Archivos_pkl/data_{}x{}.pkl'.format(PICTURE_SIZE, PICTURE_SIZE)) "
   ]
  },
  {
   "cell_type": "markdown",
   "metadata": {},
   "source": [
    "Parámetros y conceptos más comunes\n",
    "Input size W: el tamaño de la entrada\n",
    "filters: cantidad de filtros\n",
    "kernel_size F: tamaño del kernel; se establece el ancho y alto, la profundidad depende de las entradas\n",
    "strides S: la cantidad de pasos que muevo el kernel\n",
    "padding P: agrega ceros en los bordes para mantener el tamaño original\n",
    "activation: función de activación aplicada pixel a pixel\n",
    "La cantidad de neuronas de salida es (W - F + 2P)/S + 1"
   ]
  }
 ],
 "metadata": {
  "kernelspec": {
   "display_name": "Python 3",
   "language": "python",
   "name": "python3"
  },
  "language_info": {
   "codemirror_mode": {
    "name": "ipython",
    "version": 3
   },
   "file_extension": ".py",
   "mimetype": "text/x-python",
   "name": "python",
   "nbconvert_exporter": "python",
   "pygments_lexer": "ipython3",
   "version": "3.6.6"
  }
 },
 "nbformat": 4,
 "nbformat_minor": 2
}
