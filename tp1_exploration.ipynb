{
 "cells": [
  {
   "cell_type": "code",
   "execution_count": 1,
   "metadata": {},
   "outputs": [
    {
     "name": "stdout",
     "output_type": "stream",
     "text": [
      "OK\n"
     ]
    }
   ],
   "source": [
    "import sys\n",
    "\n",
    "if sys.version_info.major == 3:\n",
    "    print('OK')\n",
    "elif sys.version_info.major == 2:\n",
    "    print('ERROR: están usando python 2, deberían usar 3')\n",
    "else:\n",
    "    print('ERROR: wtf, qué versión de python es esta?')"
   ]
  },
  {
   "cell_type": "code",
   "execution_count": 2,
   "metadata": {},
   "outputs": [
    {
     "name": "stderr",
     "output_type": "stream",
     "text": [
      "Using TensorFlow backend.\n"
     ]
    }
   ],
   "source": [
    "import numpy\n",
    "import pandas\n",
    "import matplotlib\n",
    "import keras\n",
    "import h5py\n",
    "import PIL\n",
    "import seaborn\n",
    "import sklearn"
   ]
  },
  {
   "cell_type": "code",
   "execution_count": 3,
   "metadata": {},
   "outputs": [
    {
     "name": "stdout",
     "output_type": "stream",
     "text": [
      "OK\n"
     ]
    }
   ],
   "source": [
    "backend = keras.backend.backend()\n",
    "\n",
    "if backend == 'tensorflow':\n",
    "    print('OK')\n",
    "else:\n",
    "    print('ERROR: el backend de keras no es tensorflow, sino', backend)"
   ]
  },
  {
   "cell_type": "code",
   "execution_count": null,
   "metadata": {},
   "outputs": [],
   "source": [
    "#!pip freeze > requirements.txt"
   ]
  },
  {
   "cell_type": "markdown",
   "metadata": {},
   "source": [
    "<img src=\"https://lolstatic-a.akamaihd.net/frontpage/apps/prod/playnow-global/es_AR/fc1312b6f05f6bbf465d387efbc5860767f01f30/assets/img/lol-logo.png\">"
   ]
  },
  {
   "cell_type": "markdown",
   "metadata": {},
   "source": [
    "# LOL: Machine Learning Team ganador"
   ]
  },
  {
   "cell_type": "markdown",
   "metadata": {},
   "source": [
    "\n",
    "## Variable de Salida\n",
    "\n",
    "<table>\n",
    "    <tr>\n",
    "        <td style=\"text-align:center;border: 1px solid #dddddd\"><strong></strong></td>\n",
    "        <td style=\"text-align:center;border: 1px solid #dddddd\"><strong>Variable</strong></td>\n",
    "        <td style=\"text-align:center;border: 1px solid #dddddd\"><strong>Definición</strong></td>\n",
    "        <td style=\"text-align:center;border: 1px solid #dddddd\"><strong>valores posibles</strong></td>\n",
    "    </tr>\n",
    "    <tr>\n",
    "        <td style=\"text-align:left;border: 1px solid #dddddd;border-spacing: 5px;\">1</td>\n",
    "        <td style=\"text-align:left;border: 1px solid #dddddd;border-spacing: 5px;\">winner</td>\n",
    "        <td style=\"text-align:left;border: 1px solid #dddddd;border-spacing: 5px;\">Determina el equipo que va a ganar</td>\n",
    "        <td style=\"text-align:left;border: 1px solid #dddddd;border-spacing: 5px;\">Equipo 1 = 1, Equipo 2 = 2</td>\n",
    "    </tr>\n",
    "</table>"
   ]
  },
  {
   "cell_type": "markdown",
   "metadata": {},
   "source": [
    "\n",
    "##  Variable de Entrada\n",
    "\n",
    "<table>\n",
    "     <tr>\n",
    "        <td style=\"text-align:center;border: 1px solid #dddddd;background-color:rgba(255, 99, 71, 0.5);\"colspan=\"4\"><strong>Variables que No se van a usar</strong></td>\n",
    "    </tr>\n",
    "    <tr>\n",
    "        <td style=\"text-align:center;border: 1px solid #dddddd\"><strong></strong></td>\n",
    "        <td style=\"text-align:center;border: 1px solid #dddddd\"><strong>Variable</strong></td>\n",
    "        <td style=\"text-align:center;border: 1px solid #dddddd\"><strong>Definición</strong></td>\n",
    "        <td style=\"text-align:center;border: 1px solid #dddddd\"><strong>Motivos</strong></td>\n",
    "    </tr>\n",
    "    <tr>\n",
    "        <td style=\"text-align:left;border: 1px solid #dddddd;border-spacing: 5px;\">2</td>\n",
    "        <td style=\"text-align:left;border: 1px solid #dddddd;border-spacing: 5px;\">gameId</td>\n",
    "        <td style=\"text-align:left;border: 1px solid #dddddd;border-spacing: 5px;\">Identificador de la partida del juego</td>\n",
    "        <td style=\"text-align:left;border: 1px solid #dddddd;border-spacing: 5px;\">Porque es número es incremental, dependiendo de la partida que se cree</td>\n",
    "    </tr>\n",
    "    <tr>\n",
    "        <td style=\"text-align:left;border: 1px solid #dddddd;border-spacing: 5px;\">3</td>\n",
    "        <td style=\"text-align:left;border: 1px solid #dddddd;border-spacing: 5px;\">creationTime</td>\n",
    "        <td style=\"text-align:left;border: 1px solid #dddddd;border-spacing: 5px;\">Timestamp de creación de la partida</td>\n",
    "        <td style=\"text-align:left;border: 1px solid #dddddd;border-spacing: 5px;\"></td>\n",
    "    </tr>\n",
    "    <tr>\n",
    "        <td style=\"text-align:left;border: 1px solid #dddddd;border-spacing: 5px;\">4</td>\n",
    "        <td style=\"text-align:left;border: 1px solid #dddddd;border-spacing: 5px;\">seasonId</td>\n",
    "        <td style=\"text-align:left;border: 1px solid #dddddd;border-spacing: 5px;\">Identificador de la temporada. (Las temporadas empiezan en enero y terminan en diciembre)</td>\n",
    "        <td style=\"text-align:left;border: 1px solid #dddddd;border-spacing: 5px;\">Porque solo hay datos de la temporada 9</td>\n",
    "    </tr>\n",
    "</table>"
   ]
  },
  {
   "cell_type": "markdown",
   "metadata": {},
   "source": [
    "<table>\n",
    "     <tr>\n",
    "        <td style=\"text-align:center;border: 1px solid #dddddd;background-color:rgba(69, 179, 157, 0.5);\"colspan=\"4\"><strong>Variables que se van a usar</strong></td>\n",
    "    </tr>\n",
    "    <tr>\n",
    "        <td style=\"text-align:center;border: 1px solid #dddddd\"><strong></strong></td>\n",
    "        <td style=\"text-align:center;border: 1px solid #dddddd\"><strong>Variable</strong></td>\n",
    "        <td style=\"text-align:center;border: 1px solid #dddddd\"><strong>Definición</strong></td>\n",
    "        <td style=\"text-align:center;border: 1px solid #dddddd\"><strong>Transformaciones</strong></td>\n",
    "    </tr>\n",
    "    <tr>\n",
    "        <td style=\"text-align:left;border: 1px solid #dddddd;border-spacing: 5px;\">5</td>\n",
    "        <td style=\"text-align:left;border: 1px solid #dddddd;border-spacing: 5px;\">gameDuration</td>\n",
    "        <td style=\"text-align:left;border: 1px solid #dddddd;border-spacing: 5px;\">Tiempo de duración de la partida en segundos</td>\n",
    "        <td style=\"text-align:left;border: 1px solid #dddddd;border-spacing: 5px;\">SI</td>\n",
    "    </tr>\n",
    "    <tr>\n",
    "        <td style=\"text-align:left;border: 1px solid #dddddd;border-spacing: 5px;\">6</td>\n",
    "        <td style=\"text-align:left;border: 1px solid #dddddd;border-spacing: 5px;\">firstBlood</td>\n",
    "        <td style=\"text-align:left;border: 1px solid #dddddd;border-spacing: 5px;\">Equipo que hace el primer asesinato</td>\n",
    "        <td style=\"text-align:left;border: 1px solid #dddddd;border-spacing: 5px;\"></td>\n",
    "     </tr>\n",
    "</table>"
   ]
  },
  {
   "cell_type": "code",
   "execution_count": null,
   "metadata": {},
   "outputs": [],
   "source": []
  }
 ],
 "metadata": {
  "kernelspec": {
   "display_name": "Python 3",
   "language": "python",
   "name": "python3"
  },
  "language_info": {
   "codemirror_mode": {
    "name": "ipython",
    "version": 3
   },
   "file_extension": ".py",
   "mimetype": "text/x-python",
   "name": "python",
   "nbconvert_exporter": "python",
   "pygments_lexer": "ipython3",
   "version": "3.6.7"
  }
 },
 "nbformat": 4,
 "nbformat_minor": 2
}
