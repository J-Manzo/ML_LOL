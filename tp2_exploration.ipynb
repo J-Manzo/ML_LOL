{
 "cells": [
  {
   "cell_type": "markdown",
   "metadata": {},
   "source": [
    "# Trabajo Práctico 2: Entrenamiento y evaluación de modelos"
   ]
  },
  {
   "cell_type": "markdown",
   "metadata": {},
   "source": [
    "### Métrica de Performance: Accuracy\n",
    "Optamos por la eleccíon de esta métrica, debido a que resulta útil en problemas de clasificación. En este caso, estamos frente a un problema de clasificación binaria (gana el equipo 1 o el equipo 2)."
   ]
  },
  {
   "cell_type": "markdown",
   "metadata": {},
   "source": [
    "### Feature Engineering:\n",
    "No aplicamos ninguna técnica de feature engineering para mejorar la data de entrada a los modelos, porque los valores posibles de las columnas del set de datos en la mayoria de los casos es: 0/1/2 (ningún equipo/equipo 1/equipo 2) o 0/1 (false/true). Por lo tanto, no pudimos trabajarlas para extraer información extra que nos resulte de utilidad."
   ]
  },
  {
   "cell_type": "code",
   "execution_count": 1,
   "metadata": {
    "scrolled": true
   },
   "outputs": [
    {
     "data": {
      "text/html": [
       "<div>\n",
       "<style scoped>\n",
       "    .dataframe tbody tr th:only-of-type {\n",
       "        vertical-align: middle;\n",
       "    }\n",
       "\n",
       "    .dataframe tbody tr th {\n",
       "        vertical-align: top;\n",
       "    }\n",
       "\n",
       "    .dataframe thead th {\n",
       "        text-align: right;\n",
       "    }\n",
       "</style>\n",
       "<table border=\"1\" class=\"dataframe\">\n",
       "  <thead>\n",
       "    <tr style=\"text-align: right;\">\n",
       "      <th></th>\n",
       "      <th>Unnamed: 0</th>\n",
       "      <th>winner</th>\n",
       "      <th>firstBlood</th>\n",
       "      <th>firstTower</th>\n",
       "      <th>firstInhibitor</th>\n",
       "      <th>firstBaron</th>\n",
       "      <th>firstDragon</th>\n",
       "      <th>firstRiftHerald</th>\n",
       "      <th>t1_towerKills</th>\n",
       "      <th>t1_inhibitorKills</th>\n",
       "      <th>...</th>\n",
       "      <th>t2_429</th>\n",
       "      <th>t2ban_429</th>\n",
       "      <th>t2_432</th>\n",
       "      <th>t2ban_432</th>\n",
       "      <th>t2_497</th>\n",
       "      <th>t2ban_497</th>\n",
       "      <th>t2_498</th>\n",
       "      <th>t2ban_498</th>\n",
       "      <th>t2_516</th>\n",
       "      <th>t2ban_516</th>\n",
       "    </tr>\n",
       "  </thead>\n",
       "  <tbody>\n",
       "    <tr>\n",
       "      <th>0</th>\n",
       "      <td>0</td>\n",
       "      <td>1</td>\n",
       "      <td>2</td>\n",
       "      <td>1</td>\n",
       "      <td>1</td>\n",
       "      <td>1</td>\n",
       "      <td>1</td>\n",
       "      <td>2</td>\n",
       "      <td>11</td>\n",
       "      <td>1</td>\n",
       "      <td>...</td>\n",
       "      <td>0</td>\n",
       "      <td>0</td>\n",
       "      <td>0</td>\n",
       "      <td>0</td>\n",
       "      <td>0</td>\n",
       "      <td>0</td>\n",
       "      <td>1</td>\n",
       "      <td>0</td>\n",
       "      <td>0</td>\n",
       "      <td>0</td>\n",
       "    </tr>\n",
       "    <tr>\n",
       "      <th>1</th>\n",
       "      <td>1</td>\n",
       "      <td>1</td>\n",
       "      <td>1</td>\n",
       "      <td>1</td>\n",
       "      <td>1</td>\n",
       "      <td>0</td>\n",
       "      <td>1</td>\n",
       "      <td>1</td>\n",
       "      <td>10</td>\n",
       "      <td>4</td>\n",
       "      <td>...</td>\n",
       "      <td>0</td>\n",
       "      <td>0</td>\n",
       "      <td>0</td>\n",
       "      <td>0</td>\n",
       "      <td>0</td>\n",
       "      <td>0</td>\n",
       "      <td>0</td>\n",
       "      <td>0</td>\n",
       "      <td>0</td>\n",
       "      <td>0</td>\n",
       "    </tr>\n",
       "    <tr>\n",
       "      <th>2</th>\n",
       "      <td>2</td>\n",
       "      <td>1</td>\n",
       "      <td>2</td>\n",
       "      <td>1</td>\n",
       "      <td>1</td>\n",
       "      <td>1</td>\n",
       "      <td>2</td>\n",
       "      <td>0</td>\n",
       "      <td>8</td>\n",
       "      <td>1</td>\n",
       "      <td>...</td>\n",
       "      <td>0</td>\n",
       "      <td>0</td>\n",
       "      <td>0</td>\n",
       "      <td>0</td>\n",
       "      <td>0</td>\n",
       "      <td>0</td>\n",
       "      <td>0</td>\n",
       "      <td>0</td>\n",
       "      <td>0</td>\n",
       "      <td>0</td>\n",
       "    </tr>\n",
       "    <tr>\n",
       "      <th>3</th>\n",
       "      <td>3</td>\n",
       "      <td>1</td>\n",
       "      <td>1</td>\n",
       "      <td>1</td>\n",
       "      <td>1</td>\n",
       "      <td>1</td>\n",
       "      <td>1</td>\n",
       "      <td>0</td>\n",
       "      <td>9</td>\n",
       "      <td>2</td>\n",
       "      <td>...</td>\n",
       "      <td>0</td>\n",
       "      <td>0</td>\n",
       "      <td>0</td>\n",
       "      <td>0</td>\n",
       "      <td>0</td>\n",
       "      <td>0</td>\n",
       "      <td>0</td>\n",
       "      <td>0</td>\n",
       "      <td>0</td>\n",
       "      <td>0</td>\n",
       "    </tr>\n",
       "    <tr>\n",
       "      <th>4</th>\n",
       "      <td>4</td>\n",
       "      <td>1</td>\n",
       "      <td>2</td>\n",
       "      <td>1</td>\n",
       "      <td>1</td>\n",
       "      <td>1</td>\n",
       "      <td>1</td>\n",
       "      <td>0</td>\n",
       "      <td>9</td>\n",
       "      <td>2</td>\n",
       "      <td>...</td>\n",
       "      <td>0</td>\n",
       "      <td>0</td>\n",
       "      <td>0</td>\n",
       "      <td>0</td>\n",
       "      <td>0</td>\n",
       "      <td>0</td>\n",
       "      <td>0</td>\n",
       "      <td>0</td>\n",
       "      <td>0</td>\n",
       "      <td>0</td>\n",
       "    </tr>\n",
       "  </tbody>\n",
       "</table>\n",
       "<p>5 rows × 570 columns</p>\n",
       "</div>"
      ],
      "text/plain": [
       "   Unnamed: 0  winner  firstBlood  firstTower  firstInhibitor  firstBaron  \\\n",
       "0           0       1           2           1               1           1   \n",
       "1           1       1           1           1               1           0   \n",
       "2           2       1           2           1               1           1   \n",
       "3           3       1           1           1               1           1   \n",
       "4           4       1           2           1               1           1   \n",
       "\n",
       "   firstDragon  firstRiftHerald  t1_towerKills  t1_inhibitorKills  ...  \\\n",
       "0            1                2             11                  1  ...   \n",
       "1            1                1             10                  4  ...   \n",
       "2            2                0              8                  1  ...   \n",
       "3            1                0              9                  2  ...   \n",
       "4            1                0              9                  2  ...   \n",
       "\n",
       "   t2_429  t2ban_429  t2_432  t2ban_432  t2_497  t2ban_497  t2_498  t2ban_498  \\\n",
       "0       0          0       0          0       0          0       1          0   \n",
       "1       0          0       0          0       0          0       0          0   \n",
       "2       0          0       0          0       0          0       0          0   \n",
       "3       0          0       0          0       0          0       0          0   \n",
       "4       0          0       0          0       0          0       0          0   \n",
       "\n",
       "   t2_516  t2ban_516  \n",
       "0       0          0  \n",
       "1       0          0  \n",
       "2       0          0  \n",
       "3       0          0  \n",
       "4       0          0  \n",
       "\n",
       "[5 rows x 570 columns]"
      ]
     },
     "execution_count": 1,
     "metadata": {},
     "output_type": "execute_result"
    }
   ],
   "source": [
    "import numpy\n",
    "import pandas\n",
    "import matplotlib\n",
    "#import keras\n",
    "import h5py\n",
    "import PIL\n",
    "import seaborn\n",
    "import sklearn\n",
    "from matplotlib import pyplot as plt\n",
    "from sklearn.model_selection import train_test_split\n",
    "from sklearn.metrics import accuracy_score\n",
    "# Modelos a usar\n",
    "from sklearn.linear_model import LogisticRegression\n",
    "from sklearn.neural_network import MLPClassifier\n",
    "from sklearn import tree\n",
    "\n",
    "data_lol= pandas.read_csv(r'games_trans.csv', sep=',')\n",
    "\n",
    "data_lol.head(5)\n"
   ]
  },
  {
   "cell_type": "code",
   "execution_count": 2,
   "metadata": {},
   "outputs": [],
   "source": [
    "# Defino función general, se le pasa Entradas, Target y el Modelo ya creado a entrenar\n",
    "# Pinta con la meta Accuracy las predicciones para Train y Test\n",
    "def trainModel(inputs, target, model):\n",
    "    \n",
    "    # Separa los datos en train y test\n",
    "    inputsTrain, inputsTest, targetTrain, targetTest = train_test_split(inputs, target, test_size=0.33, random_state=101)\n",
    "\n",
    "    # Entrena el modelo \n",
    "    model.fit(inputsTrain, targetTrain)\n",
    "    \n",
    "    # Hace las predicciones con train y test\n",
    "    predictionsTrain = model.predict(inputsTrain)\n",
    "    predictionsTest = model.predict(inputsTest)\n",
    "    \n",
    "    # Muestra Accuracy para ambas predicciones\n",
    "    print('Accuracy Train:',accuracy_score(targetTrain, predictionsTrain))\n",
    "    print('Accuracy Test:',accuracy_score(targetTest, predictionsTest))\n",
    "    print('')"
   ]
  },
  {
   "cell_type": "code",
   "execution_count": 3,
   "metadata": {},
   "outputs": [],
   "source": [
    "# Defino las variables de entrada y el target\n",
    "\n",
    "#Para Barones y Dragon asesinados\n",
    "inputsBaronsDragons = data_lol[['t1_baronKills', 't1_dragonKills', 't2_baronKills', 't2_dragonKills']]\n",
    "targetBaronsDragons = data_lol['winner']\n",
    "\n",
    "#Para Torres e Inhibidores destruidos\n",
    "inputsTowersInhibitors = data_lol[['t1_towerKills','t1_inhibitorKills','t2_towerKills','t2_inhibitorKills']]\n",
    "targetTowersInhibitors = data_lol['winner']\n",
    "\n",
    "# lista de ids de los campeones\n",
    "data = []\n",
    "champions = pandas.read_json('champion_info_2.json')\n",
    "champion_ids = []\n",
    "for champion in sorted(champions.data.to_list(), key=lambda k: k['id']):\n",
    "    champion_ids.append(champion['id'])\n",
    "champion_ids = champion_ids[1:]\n",
    "\n",
    "for team in [\"1\", \"2\"]:\n",
    "    for champ_id in champion_ids:\n",
    "        data.append('t' + team + '_' + str(champ_id))\n",
    "        data.append('t' + team + 'ban_' + str(champ_id))\n",
    "        \n",
    "#Para Campeones elegidos y baneados\n",
    "inputsChampsAndBans = data_lol[data]\n",
    "targetChampsAndBans = data_lol['winner']"
   ]
  },
  {
   "cell_type": "markdown",
   "metadata": {},
   "source": [
    "A) REGRESIÓN LÓGISTICA"
   ]
  },
  {
   "cell_type": "code",
   "execution_count": 4,
   "metadata": {
    "scrolled": true
   },
   "outputs": [
    {
     "name": "stdout",
     "output_type": "stream",
     "text": [
      "Modelo para Barones y Dragones asesinados\n",
      "Accuracy Train: 0.8307148240477709\n",
      "Accuracy Test: 0.8273305084745762\n",
      "\n",
      "Modelo para Torres e Inhibidores destruidos\n",
      "Accuracy Train: 0.9568380775697142\n",
      "Accuracy Test: 0.9570386064030132\n",
      "\n",
      "Modelo para Campeones elegidos y baneados por cada equipo\n"
     ]
    },
    {
     "name": "stderr",
     "output_type": "stream",
     "text": [
      "/home/emiliano/Escritorio/ML_LOL/venv/lib/python3.6/site-packages/sklearn/linear_model/logistic.py:433: FutureWarning: Default solver will be changed to 'lbfgs' in 0.22. Specify a solver to silence this warning.\n",
      "  FutureWarning)\n",
      "/home/emiliano/Escritorio/ML_LOL/venv/lib/python3.6/site-packages/sklearn/linear_model/logistic.py:433: FutureWarning: Default solver will be changed to 'lbfgs' in 0.22. Specify a solver to silence this warning.\n",
      "  FutureWarning)\n",
      "/home/emiliano/Escritorio/ML_LOL/venv/lib/python3.6/site-packages/sklearn/linear_model/logistic.py:433: FutureWarning: Default solver will be changed to 'lbfgs' in 0.22. Specify a solver to silence this warning.\n",
      "  FutureWarning)\n"
     ]
    },
    {
     "name": "stdout",
     "output_type": "stream",
     "text": [
      "Accuracy Train: 0.5738303669777958\n",
      "Accuracy Test: 0.5471398305084746\n",
      "\n"
     ]
    }
   ],
   "source": [
    "# Crea el modelo de Regresión Logistica\n",
    "logModelBaronsDragons = LogisticRegression()\n",
    "print('Modelo para Barones y Dragones asesinados')\n",
    "# Entrena el modelo con los datos de Barones y Dragones asesinados por cada equipo\n",
    "trainModel(inputsBaronsDragons,targetBaronsDragons,logModelBaronsDragons)\n",
    "\n",
    "logModelTowersInhibitors = LogisticRegression()\n",
    "# Entrena el modelo con los datos de Torres e Inhibdores destruidos por cada equipo\n",
    "print('Modelo para Torres e Inhibidores destruidos')\n",
    "trainModel(inputsTowersInhibitors,targetTowersInhibitors,logModelTowersInhibitors)\n",
    "\n",
    "logModelChampsAndBans = LogisticRegression()\n",
    "# Entrena el modelo con los datos de Campeones elegidos y baneados por cada equipo\n",
    "print('Modelo para Campeones elegidos y baneados por cada equipo')\n",
    "trainModel(inputsChampsAndBans,targetChampsAndBans,logModelChampsAndBans)"
   ]
  },
  {
   "cell_type": "markdown",
   "metadata": {},
   "source": [
    "B) RED NEURONALES MLP"
   ]
  },
  {
   "cell_type": "code",
   "execution_count": 5,
   "metadata": {},
   "outputs": [
    {
     "name": "stdout",
     "output_type": "stream",
     "text": [
      "Modelo para Barones y Dragons asesinados\n",
      "Accuracy Train: 0.8345991071946199\n",
      "Accuracy Test: 0.8294491525423728\n",
      "\n",
      "Modelo para Torres e Inhibidores destruidos\n",
      "Accuracy Train: 0.9615629891587918\n",
      "Accuracy Test: 0.9615112994350282\n",
      "\n",
      "Modelo para Campeones elegidos y baneados por cada equipo\n"
     ]
    },
    {
     "name": "stderr",
     "output_type": "stream",
     "text": [
      "/home/emiliano/Escritorio/ML_LOL/venv/lib/python3.6/site-packages/sklearn/neural_network/multilayer_perceptron.py:562: ConvergenceWarning: Stochastic Optimizer: Maximum iterations (10) reached and the optimization hasn't converged yet.\n",
      "  % self.max_iter, ConvergenceWarning)\n"
     ]
    },
    {
     "name": "stdout",
     "output_type": "stream",
     "text": [
      "Accuracy Train: 0.7101571105571337\n",
      "Accuracy Test: 0.5314854048964218\n",
      "\n"
     ]
    }
   ],
   "source": [
    "# Crea el modelo de Red Neuronal MLP\n",
    "MLPModelBaronsDragons= MLPClassifier(activation='relu', solver='adam', hidden_layer_sizes=(50,), random_state=1)\n",
    "print('Modelo para Barones y Dragons asesinados')\n",
    "# Entrena el modelo con los datos de Barones y Dragones asesinados por cada equipo\n",
    "trainModel(inputsBaronsDragons,targetBaronsDragons,MLPModelBaronsDragons)\n",
    "\n",
    "MLPModelTowersInhibitors = MLPClassifier(activation='relu', solver='adam', hidden_layer_sizes=(50,), random_state=1)\n",
    "# Entrena el modelo con los datos de Torres e Inhibdores destruidos por cada equipo\n",
    "print('Modelo para Torres e Inhibidores destruidos')\n",
    "trainModel(inputsTowersInhibitors,targetTowersInhibitors,MLPModelTowersInhibitors)\n",
    "\n",
    "MLPModelChampsAndBans= MLPClassifier(activation='relu', solver='adam', hidden_layer_sizes=(20,10),max_iter=10, random_state=1)\n",
    "# Entrena el modelo con los datos de Campeones elegidos y baneados por cada equipo\n",
    "print('Modelo para Campeones elegidos y baneados por cada equipo')\n",
    "trainModel(inputsChampsAndBans,targetChampsAndBans,MLPModelChampsAndBans)\n"
   ]
  },
  {
   "cell_type": "markdown",
   "metadata": {},
   "source": [
    "En el tercer caso, de Campeones elegidos y baneados, decidimos ir cambiando la capas ocultas y el max_iter, porque con los valores por defecto daba un Acurracy de de 100% de Train, por ende, estaba overfitiando. Lo valores finales que elegimos fueron por pruebas que fuimos haciendo.\n"
   ]
  },
  {
   "cell_type": "markdown",
   "metadata": {},
   "source": [
    "C) ARBOLES DE DISICIÓN"
   ]
  },
  {
   "cell_type": "code",
   "execution_count": 6,
   "metadata": {
    "scrolled": true
   },
   "outputs": [
    {
     "name": "stdout",
     "output_type": "stream",
     "text": [
      "Modelo para Barones y Dragons asesinados\n",
      "Accuracy Train: 0.8366861847063598\n",
      "Accuracy Test: 0.8289194915254238\n",
      "\n",
      "Modelo para Torres e Inhibidores destruidos\n",
      "Accuracy Train: 0.9657951185575976\n",
      "Accuracy Test: 0.9599223163841808\n",
      "\n",
      "Modelo para Campeones elegidos y baneados por cada equipo\n",
      "Accuracy Train: 0.6458635283204823\n",
      "Accuracy Test: 0.5303083804143126\n",
      "\n"
     ]
    }
   ],
   "source": [
    "# Crea el modelo Árbol de decisión\n",
    "treeModelBaronsDragons = tree.DecisionTreeClassifier()\n",
    "print('Modelo para Barones y Dragons asesinados')\n",
    "# Entrena el modelo con los datos de Barones y Dragones asesinados por cada equipo\n",
    "trainModel(inputsBaronsDragons,targetBaronsDragons,treeModelBaronsDragons)\n",
    "\n",
    "treeModelTowersInhibitors = tree.DecisionTreeClassifier()\n",
    "# Entrena el modelo con los datos de Torres e Inhibdores destruidos por cada equipo\n",
    "print('Modelo para Torres e Inhibidores destruidos')\n",
    "trainModel(inputsTowersInhibitors,targetTowersInhibitors,treeModelTowersInhibitors)\n",
    "\n",
    "treeModelChampsAndBans = tree.DecisionTreeClassifier(max_depth=22)\n",
    "# Entrena el modelo con los datos de Campeones elegidos y baneados por cada equipo\n",
    "print('Modelo para Campeones elegidos y baneados por cada equipo')\n",
    "trainModel(inputsChampsAndBans,targetChampsAndBans,treeModelChampsAndBans)\n"
   ]
  },
  {
   "cell_type": "markdown",
   "metadata": {},
   "source": [
    "En el tercer caso, de Campeones elegidos y baneados, decidimos ponerle un max_depth de 22, que fuimos probando, ya que en un comienzo sobreentenaba, dando un Accuracy de 100% en train"
   ]
  },
  {
   "cell_type": "markdown",
   "metadata": {},
   "source": [
    "<h3>Conclusión:</h3>\n",
    "Decidimos probar con tres set de variables de entradas diferentes, para ver como se comportaban los diferentes modelos. Los sets son, el primero de Barones y Dragones asesinados por cada equipo, el segundo de Torres e Inhibidores destruidos por cada equipo y el tercero de Campeones elegidos y baneados.\n",
    "Como modelos utilizamos <u>Regresión logística</u>, <u>Red neuronal MLP</u> y <u>Árbol de decisión</u>, los cuales implementamos para cada set de variables.<br>\n",
    "Para las variables de <u>Barones y Dragones asesinados</u>, observamos que con Regresión Logística, se obtiene un 82% de acurracy, el cual parece ser un valor bastante bueno. porcentaje el cual es similar también para la Red Neuronal y el Árbol, por cual se podría optar por cualquiera de estos modelos.<br>\n",
    "Para las variables de <u>Torres e Inhibidores destruidos</u>, con Regresión Logística el valor es del 95%, con unas centésimas mayor al accuracy de la predicción de los datos entrenamiento, con lo cual podríamos decir que esta overfitiando un poco. Algo similar sucede con la Red Neuronal pero un un accuracy de 96%, y para el con el Árbol de decisión, el accuracy de Test es una décima menor al de Train, con un 95%, por lo tanto podria decirse que los tres modelos otorgan resultados similares.<br>\n",
    "Para las variables de <u>Campeones elegidos y baneados</u> por cada equipo, con regresión logística el accuracy da un porcentaje bastante bajo 54%, en cual no serviria para realizar una predicción, ya que seria casi lo mismo que tirar una moneda. Lo mismo sucede con la Red MLP, la cual da un accuracy del 53%, bastante menor al de Test 71%, que un principio overfiteaba, dando un 100%, por lo cual de decidió aplicar algunas de técnicas para que no overfitee tanto, pero no dio buenos resultados en el valor final.<br>\n",
    "Con el Árbol de decisión, el resultado no difiere mucho de los modelos anteriores, ya que da un 53%. También overftiaba mucho en un principio. Esto tal vez se deba al <u>one hot encoder que realizamos en un comienzo</u>.<br>\n",
    "Como conclusión de estas variables de entrada, podría decirse, que es muy difícil predecir un resultado simplemente con los campeones elegidos y baneados, ĺo cual tiene algo de sentido.<br>\n",
    "Para los Barones y Dragones asesinados, se podría obtener un resultado bastante bueno, y para las Torres e Inhibidores destruidos, el resultado es bastante bueno con los tres modelos, con lo cual se podría utilizar.<br>\n",
    "También comentar, que el dataset contiene una gran cantidad de variables, el cual permitiría hacer muchos análisis y predicciones, dependerá de la persona la cual necesita esta información, saber que es lo que requiere para darle un resultado mas acorde."
   ]
  },
  {
   "cell_type": "code",
   "execution_count": null,
   "metadata": {},
   "outputs": [],
   "source": []
  }
 ],
 "metadata": {
  "kernelspec": {
   "display_name": "Python 3",
   "language": "python",
   "name": "python3"
  },
  "language_info": {
   "codemirror_mode": {
    "name": "ipython",
    "version": 3
   },
   "file_extension": ".py",
   "mimetype": "text/x-python",
   "name": "python",
   "nbconvert_exporter": "python",
   "pygments_lexer": "ipython3",
   "version": "3.6.6"
  }
 },
 "nbformat": 4,
 "nbformat_minor": 2
}
