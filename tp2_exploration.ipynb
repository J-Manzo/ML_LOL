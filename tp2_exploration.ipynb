{
 "cells": [
  {
   "cell_type": "markdown",
   "metadata": {},
   "source": [
    "# Trabajo Práctico 2: Entrenamiento y evaluación de modelos"
   ]
  },
  {
   "cell_type": "markdown",
   "metadata": {},
   "source": [
    "### Métrica de Performance: Accuracy\n",
    "Optamos por la eleccíon de esta métrica, debido a que resulta útil en problemas de clasificación. En este caso, estamos frente a un problema de clasificación binaria (gana el equipo 1 o el equipo 2)."
   ]
  },
  {
   "cell_type": "markdown",
   "metadata": {},
   "source": [
    "### Feature Engineering:\n",
    "No aplicamos ninguna técnica de feature engineering para mejorar la data de entrada a los modelos, porque los valores posibles de las columnas del set de datos en la mayoria de los casos es: 0/1/2 (ningún equipo/equipo 1/equipo 2) o 0/1 (false/true). Por lo tanto, no pudimos trabajarlas para extraer información extra que nos resulte de utilidad."
   ]
  },
  {
   "cell_type": "code",
   "execution_count": 1,
   "metadata": {
    "scrolled": true
   },
   "outputs": [
    {
     "data": {
      "text/html": [
       "<div>\n",
       "<style scoped>\n",
       "    .dataframe tbody tr th:only-of-type {\n",
       "        vertical-align: middle;\n",
       "    }\n",
       "\n",
       "    .dataframe tbody tr th {\n",
       "        vertical-align: top;\n",
       "    }\n",
       "\n",
       "    .dataframe thead th {\n",
       "        text-align: right;\n",
       "    }\n",
       "</style>\n",
       "<table border=\"1\" class=\"dataframe\">\n",
       "  <thead>\n",
       "    <tr style=\"text-align: right;\">\n",
       "      <th></th>\n",
       "      <th>Unnamed: 0</th>\n",
       "      <th>winner</th>\n",
       "      <th>firstBlood</th>\n",
       "      <th>firstTower</th>\n",
       "      <th>firstInhibitor</th>\n",
       "      <th>firstBaron</th>\n",
       "      <th>firstDragon</th>\n",
       "      <th>firstRiftHerald</th>\n",
       "      <th>t1_towerKills</th>\n",
       "      <th>t1_inhibitorKills</th>\n",
       "      <th>...</th>\n",
       "      <th>t2_429</th>\n",
       "      <th>t2ban_429</th>\n",
       "      <th>t2_432</th>\n",
       "      <th>t2ban_432</th>\n",
       "      <th>t2_497</th>\n",
       "      <th>t2ban_497</th>\n",
       "      <th>t2_498</th>\n",
       "      <th>t2ban_498</th>\n",
       "      <th>t2_516</th>\n",
       "      <th>t2ban_516</th>\n",
       "    </tr>\n",
       "  </thead>\n",
       "  <tbody>\n",
       "    <tr>\n",
       "      <th>0</th>\n",
       "      <td>0</td>\n",
       "      <td>1</td>\n",
       "      <td>2</td>\n",
       "      <td>1</td>\n",
       "      <td>1</td>\n",
       "      <td>1</td>\n",
       "      <td>1</td>\n",
       "      <td>2</td>\n",
       "      <td>11</td>\n",
       "      <td>1</td>\n",
       "      <td>...</td>\n",
       "      <td>0</td>\n",
       "      <td>0</td>\n",
       "      <td>0</td>\n",
       "      <td>0</td>\n",
       "      <td>0</td>\n",
       "      <td>0</td>\n",
       "      <td>1</td>\n",
       "      <td>0</td>\n",
       "      <td>0</td>\n",
       "      <td>0</td>\n",
       "    </tr>\n",
       "    <tr>\n",
       "      <th>1</th>\n",
       "      <td>1</td>\n",
       "      <td>1</td>\n",
       "      <td>1</td>\n",
       "      <td>1</td>\n",
       "      <td>1</td>\n",
       "      <td>0</td>\n",
       "      <td>1</td>\n",
       "      <td>1</td>\n",
       "      <td>10</td>\n",
       "      <td>4</td>\n",
       "      <td>...</td>\n",
       "      <td>0</td>\n",
       "      <td>0</td>\n",
       "      <td>0</td>\n",
       "      <td>0</td>\n",
       "      <td>0</td>\n",
       "      <td>0</td>\n",
       "      <td>0</td>\n",
       "      <td>0</td>\n",
       "      <td>0</td>\n",
       "      <td>0</td>\n",
       "    </tr>\n",
       "    <tr>\n",
       "      <th>2</th>\n",
       "      <td>2</td>\n",
       "      <td>1</td>\n",
       "      <td>2</td>\n",
       "      <td>1</td>\n",
       "      <td>1</td>\n",
       "      <td>1</td>\n",
       "      <td>2</td>\n",
       "      <td>0</td>\n",
       "      <td>8</td>\n",
       "      <td>1</td>\n",
       "      <td>...</td>\n",
       "      <td>0</td>\n",
       "      <td>0</td>\n",
       "      <td>0</td>\n",
       "      <td>0</td>\n",
       "      <td>0</td>\n",
       "      <td>0</td>\n",
       "      <td>0</td>\n",
       "      <td>0</td>\n",
       "      <td>0</td>\n",
       "      <td>0</td>\n",
       "    </tr>\n",
       "    <tr>\n",
       "      <th>3</th>\n",
       "      <td>3</td>\n",
       "      <td>1</td>\n",
       "      <td>1</td>\n",
       "      <td>1</td>\n",
       "      <td>1</td>\n",
       "      <td>1</td>\n",
       "      <td>1</td>\n",
       "      <td>0</td>\n",
       "      <td>9</td>\n",
       "      <td>2</td>\n",
       "      <td>...</td>\n",
       "      <td>0</td>\n",
       "      <td>0</td>\n",
       "      <td>0</td>\n",
       "      <td>0</td>\n",
       "      <td>0</td>\n",
       "      <td>0</td>\n",
       "      <td>0</td>\n",
       "      <td>0</td>\n",
       "      <td>0</td>\n",
       "      <td>0</td>\n",
       "    </tr>\n",
       "    <tr>\n",
       "      <th>4</th>\n",
       "      <td>4</td>\n",
       "      <td>1</td>\n",
       "      <td>2</td>\n",
       "      <td>1</td>\n",
       "      <td>1</td>\n",
       "      <td>1</td>\n",
       "      <td>1</td>\n",
       "      <td>0</td>\n",
       "      <td>9</td>\n",
       "      <td>2</td>\n",
       "      <td>...</td>\n",
       "      <td>0</td>\n",
       "      <td>0</td>\n",
       "      <td>0</td>\n",
       "      <td>0</td>\n",
       "      <td>0</td>\n",
       "      <td>0</td>\n",
       "      <td>0</td>\n",
       "      <td>0</td>\n",
       "      <td>0</td>\n",
       "      <td>0</td>\n",
       "    </tr>\n",
       "  </tbody>\n",
       "</table>\n",
       "<p>5 rows × 570 columns</p>\n",
       "</div>"
      ],
      "text/plain": [
       "   Unnamed: 0  winner  firstBlood  firstTower  firstInhibitor  firstBaron  \\\n",
       "0           0       1           2           1               1           1   \n",
       "1           1       1           1           1               1           0   \n",
       "2           2       1           2           1               1           1   \n",
       "3           3       1           1           1               1           1   \n",
       "4           4       1           2           1               1           1   \n",
       "\n",
       "   firstDragon  firstRiftHerald  t1_towerKills  t1_inhibitorKills  ...  \\\n",
       "0            1                2             11                  1  ...   \n",
       "1            1                1             10                  4  ...   \n",
       "2            2                0              8                  1  ...   \n",
       "3            1                0              9                  2  ...   \n",
       "4            1                0              9                  2  ...   \n",
       "\n",
       "   t2_429  t2ban_429  t2_432  t2ban_432  t2_497  t2ban_497  t2_498  t2ban_498  \\\n",
       "0       0          0       0          0       0          0       1          0   \n",
       "1       0          0       0          0       0          0       0          0   \n",
       "2       0          0       0          0       0          0       0          0   \n",
       "3       0          0       0          0       0          0       0          0   \n",
       "4       0          0       0          0       0          0       0          0   \n",
       "\n",
       "   t2_516  t2ban_516  \n",
       "0       0          0  \n",
       "1       0          0  \n",
       "2       0          0  \n",
       "3       0          0  \n",
       "4       0          0  \n",
       "\n",
       "[5 rows x 570 columns]"
      ]
     },
     "execution_count": 1,
     "metadata": {},
     "output_type": "execute_result"
    }
   ],
   "source": [
    "import numpy\n",
    "import pandas\n",
    "import matplotlib\n",
    "#import keras\n",
    "import h5py\n",
    "import PIL\n",
    "import seaborn\n",
    "import sklearn\n",
    "from matplotlib import pyplot as plt\n",
    "from sklearn.model_selection import train_test_split\n",
    "from sklearn.metrics import accuracy_score\n",
    "# Modelos a usar\n",
    "from sklearn.linear_model import LogisticRegression\n",
    "from sklearn.neural_network import MLPClassifier\n",
    "from sklearn import tree\n",
    "\n",
    "data_lol= pandas.read_csv(r'games_trans.csv', sep=',')\n",
    "\n",
    "data_lol.head(5)\n"
   ]
  },
  {
   "cell_type": "code",
   "execution_count": 2,
   "metadata": {},
   "outputs": [],
   "source": [
    "# Defino función general, se le pasa Entradas, Target y el Modelo ya creado a entrenar\n",
    "# Pinta con la meta Accuracy las predicciones para Train y Test\n",
    "def trainModel(inputs, target, model):\n",
    "    \n",
    "    # Separa los datos en train y test\n",
    "    inputsTrain, inputsTest, targetTrain, targetTest = train_test_split(inputs, target, test_size=0.33, random_state=101)\n",
    "\n",
    "    # Entrena el modelo \n",
    "    model.fit(inputsTrain, targetTrain)\n",
    "    \n",
    "    # Hace las predicciones con train y test\n",
    "    predictionsTrain = model.predict(inputsTrain)\n",
    "    predictionsTest = model.predict(inputsTest)\n",
    "    \n",
    "    # Muestra Accuracy para ambas predicciones\n",
    "    print('Accuracy Train:',accuracy_score(targetTrain, predictionsTrain))\n",
    "    print('Accuracy Test:',accuracy_score(targetTest, predictionsTest))\n",
    "    print('')"
   ]
  },
  {
   "cell_type": "code",
   "execution_count": 3,
   "metadata": {},
   "outputs": [],
   "source": [
    "# Defino las variables de entrada y el target\n",
    "\n",
    "#Para Barones y Dragon asesinados\n",
    "inputsBaronsDragons = data_lol[['t1_baronKills', 't1_dragonKills', 't2_baronKills', 't2_dragonKills']]\n",
    "targetBaronsDragons = data_lol['winner']\n",
    "\n",
    "#Para Torres e Inhibidores destruidos\n",
    "inputsTowersInhibitors = data_lol[['t1_towerKills','t1_inhibitorKills','t2_towerKills','t2_inhibitorKills']]\n",
    "targetTowersInhibitors = data_lol['winner']\n",
    "\n",
    "# lista de ids de los campeones\n",
    "data = []\n",
    "champions = pandas.read_json('champion_info_2.json')\n",
    "champion_ids = []\n",
    "for champion in sorted(champions.data.to_list(), key=lambda k: k['id']):\n",
    "    champion_ids.append(champion['id'])\n",
    "champion_ids = champion_ids[1:]\n",
    "\n",
    "for team in [\"1\", \"2\"]:\n",
    "    for champ_id in champion_ids:\n",
    "        data.append('t' + team + '_' + str(champ_id))\n",
    "        data.append('t' + team + 'ban_' + str(champ_id))\n",
    "        \n",
    "#Para Campeones elegidos y baneados\n",
    "inputsChampsAndBans = data_lol[data]\n",
    "targetChampsAndBans = data_lol['winner']"
   ]
  },
  {
   "cell_type": "markdown",
   "metadata": {},
   "source": [
    "A) REGRESIÓN LÓGISTICA"
   ]
  },
  {
   "cell_type": "code",
   "execution_count": 4,
   "metadata": {
    "scrolled": true
   },
   "outputs": [
    {
     "name": "stdout",
     "output_type": "stream",
     "text": [
      "Modelo para Barones y Dragones asesinados\n",
      "Accuracy Train: 0.8307148240477709\n",
      "Accuracy Test: 0.8273305084745762\n",
      "\n",
      "Modelo para Torres e Inhibidores destruidos\n",
      "Accuracy Train: 0.9568380775697142\n",
      "Accuracy Test: 0.9570386064030132\n",
      "\n",
      "Modelo para Campeones elegidos y baneados por cada equipo\n"
     ]
    },
    {
     "name": "stderr",
     "output_type": "stream",
     "text": [
      "c:\\users\\fcarignano\\pycharmprojects\\ml_lol\\venv\\lib\\site-packages\\sklearn\\linear_model\\logistic.py:433: FutureWarning: Default solver will be changed to 'lbfgs' in 0.22. Specify a solver to silence this warning.\n",
      "  FutureWarning)\n",
      "c:\\users\\fcarignano\\pycharmprojects\\ml_lol\\venv\\lib\\site-packages\\sklearn\\linear_model\\logistic.py:433: FutureWarning: Default solver will be changed to 'lbfgs' in 0.22. Specify a solver to silence this warning.\n",
      "  FutureWarning)\n",
      "c:\\users\\fcarignano\\pycharmprojects\\ml_lol\\venv\\lib\\site-packages\\sklearn\\linear_model\\logistic.py:433: FutureWarning: Default solver will be changed to 'lbfgs' in 0.22. Specify a solver to silence this warning.\n",
      "  FutureWarning)\n"
     ]
    },
    {
     "ename": "MemoryError",
     "evalue": "",
     "output_type": "error",
     "traceback": [
      "\u001b[1;31m---------------------------------------------------------------------------\u001b[0m",
      "\u001b[1;31mMemoryError\u001b[0m                               Traceback (most recent call last)",
      "\u001b[1;32m<ipython-input-4-aada48e3c903>\u001b[0m in \u001b[0;36m<module>\u001b[1;34m\u001b[0m\n\u001b[0;32m     13\u001b[0m \u001b[1;31m# Entrena el modelo con los datos de Campeones elegidos y baneados por cada equipo\u001b[0m\u001b[1;33m\u001b[0m\u001b[1;33m\u001b[0m\u001b[1;33m\u001b[0m\u001b[0m\n\u001b[0;32m     14\u001b[0m \u001b[0mprint\u001b[0m\u001b[1;33m(\u001b[0m\u001b[1;34m'Modelo para Campeones elegidos y baneados por cada equipo'\u001b[0m\u001b[1;33m)\u001b[0m\u001b[1;33m\u001b[0m\u001b[1;33m\u001b[0m\u001b[0m\n\u001b[1;32m---> 15\u001b[1;33m \u001b[0mtrainModel\u001b[0m\u001b[1;33m(\u001b[0m\u001b[0minputsChampsAndBans\u001b[0m\u001b[1;33m,\u001b[0m\u001b[0mtargetChampsAndBans\u001b[0m\u001b[1;33m,\u001b[0m\u001b[0mlogModelChampsAndBans\u001b[0m\u001b[1;33m)\u001b[0m\u001b[1;33m\u001b[0m\u001b[1;33m\u001b[0m\u001b[0m\n\u001b[0m",
      "\u001b[1;32m<ipython-input-2-54fb21289c62>\u001b[0m in \u001b[0;36mtrainModel\u001b[1;34m(inputs, target, model)\u001b[0m\n\u001b[0;32m      7\u001b[0m \u001b[1;33m\u001b[0m\u001b[0m\n\u001b[0;32m      8\u001b[0m     \u001b[1;31m# Entrena el modelo\u001b[0m\u001b[1;33m\u001b[0m\u001b[1;33m\u001b[0m\u001b[1;33m\u001b[0m\u001b[0m\n\u001b[1;32m----> 9\u001b[1;33m     \u001b[0mmodel\u001b[0m\u001b[1;33m.\u001b[0m\u001b[0mfit\u001b[0m\u001b[1;33m(\u001b[0m\u001b[0minputsTrain\u001b[0m\u001b[1;33m,\u001b[0m \u001b[0mtargetTrain\u001b[0m\u001b[1;33m)\u001b[0m\u001b[1;33m\u001b[0m\u001b[1;33m\u001b[0m\u001b[0m\n\u001b[0m\u001b[0;32m     10\u001b[0m \u001b[1;33m\u001b[0m\u001b[0m\n\u001b[0;32m     11\u001b[0m     \u001b[1;31m# Hace las predicciones con train y test\u001b[0m\u001b[1;33m\u001b[0m\u001b[1;33m\u001b[0m\u001b[1;33m\u001b[0m\u001b[0m\n",
      "\u001b[1;32mc:\\users\\fcarignano\\pycharmprojects\\ml_lol\\venv\\lib\\site-packages\\sklearn\\linear_model\\logistic.py\u001b[0m in \u001b[0;36mfit\u001b[1;34m(self, X, y, sample_weight)\u001b[0m\n\u001b[0;32m   1286\u001b[0m \u001b[1;33m\u001b[0m\u001b[0m\n\u001b[0;32m   1287\u001b[0m         X, y = check_X_y(X, y, accept_sparse='csr', dtype=_dtype, order=\"C\",\n\u001b[1;32m-> 1288\u001b[1;33m                          accept_large_sparse=solver != 'liblinear')\n\u001b[0m\u001b[0;32m   1289\u001b[0m         \u001b[0mcheck_classification_targets\u001b[0m\u001b[1;33m(\u001b[0m\u001b[0my\u001b[0m\u001b[1;33m)\u001b[0m\u001b[1;33m\u001b[0m\u001b[1;33m\u001b[0m\u001b[0m\n\u001b[0;32m   1290\u001b[0m         \u001b[0mself\u001b[0m\u001b[1;33m.\u001b[0m\u001b[0mclasses_\u001b[0m \u001b[1;33m=\u001b[0m \u001b[0mnp\u001b[0m\u001b[1;33m.\u001b[0m\u001b[0munique\u001b[0m\u001b[1;33m(\u001b[0m\u001b[0my\u001b[0m\u001b[1;33m)\u001b[0m\u001b[1;33m\u001b[0m\u001b[1;33m\u001b[0m\u001b[0m\n",
      "\u001b[1;32mc:\\users\\fcarignano\\pycharmprojects\\ml_lol\\venv\\lib\\site-packages\\sklearn\\utils\\validation.py\u001b[0m in \u001b[0;36mcheck_X_y\u001b[1;34m(X, y, accept_sparse, accept_large_sparse, dtype, order, copy, force_all_finite, ensure_2d, allow_nd, multi_output, ensure_min_samples, ensure_min_features, y_numeric, warn_on_dtype, estimator)\u001b[0m\n\u001b[0;32m    754\u001b[0m                     \u001b[0mensure_min_features\u001b[0m\u001b[1;33m=\u001b[0m\u001b[0mensure_min_features\u001b[0m\u001b[1;33m,\u001b[0m\u001b[1;33m\u001b[0m\u001b[1;33m\u001b[0m\u001b[0m\n\u001b[0;32m    755\u001b[0m                     \u001b[0mwarn_on_dtype\u001b[0m\u001b[1;33m=\u001b[0m\u001b[0mwarn_on_dtype\u001b[0m\u001b[1;33m,\u001b[0m\u001b[1;33m\u001b[0m\u001b[1;33m\u001b[0m\u001b[0m\n\u001b[1;32m--> 756\u001b[1;33m                     estimator=estimator)\n\u001b[0m\u001b[0;32m    757\u001b[0m     \u001b[1;32mif\u001b[0m \u001b[0mmulti_output\u001b[0m\u001b[1;33m:\u001b[0m\u001b[1;33m\u001b[0m\u001b[1;33m\u001b[0m\u001b[0m\n\u001b[0;32m    758\u001b[0m         y = check_array(y, 'csr', force_all_finite=True, ensure_2d=False,\n",
      "\u001b[1;32mc:\\users\\fcarignano\\pycharmprojects\\ml_lol\\venv\\lib\\site-packages\\sklearn\\utils\\validation.py\u001b[0m in \u001b[0;36mcheck_array\u001b[1;34m(array, accept_sparse, accept_large_sparse, dtype, order, copy, force_all_finite, ensure_2d, allow_nd, ensure_min_samples, ensure_min_features, warn_on_dtype, estimator)\u001b[0m\n\u001b[0;32m    525\u001b[0m             \u001b[1;32mtry\u001b[0m\u001b[1;33m:\u001b[0m\u001b[1;33m\u001b[0m\u001b[1;33m\u001b[0m\u001b[0m\n\u001b[0;32m    526\u001b[0m                 \u001b[0mwarnings\u001b[0m\u001b[1;33m.\u001b[0m\u001b[0msimplefilter\u001b[0m\u001b[1;33m(\u001b[0m\u001b[1;34m'error'\u001b[0m\u001b[1;33m,\u001b[0m \u001b[0mComplexWarning\u001b[0m\u001b[1;33m)\u001b[0m\u001b[1;33m\u001b[0m\u001b[1;33m\u001b[0m\u001b[0m\n\u001b[1;32m--> 527\u001b[1;33m                 \u001b[0marray\u001b[0m \u001b[1;33m=\u001b[0m \u001b[0mnp\u001b[0m\u001b[1;33m.\u001b[0m\u001b[0masarray\u001b[0m\u001b[1;33m(\u001b[0m\u001b[0marray\u001b[0m\u001b[1;33m,\u001b[0m \u001b[0mdtype\u001b[0m\u001b[1;33m=\u001b[0m\u001b[0mdtype\u001b[0m\u001b[1;33m,\u001b[0m \u001b[0morder\u001b[0m\u001b[1;33m=\u001b[0m\u001b[0morder\u001b[0m\u001b[1;33m)\u001b[0m\u001b[1;33m\u001b[0m\u001b[1;33m\u001b[0m\u001b[0m\n\u001b[0m\u001b[0;32m    528\u001b[0m             \u001b[1;32mexcept\u001b[0m \u001b[0mComplexWarning\u001b[0m\u001b[1;33m:\u001b[0m\u001b[1;33m\u001b[0m\u001b[1;33m\u001b[0m\u001b[0m\n\u001b[0;32m    529\u001b[0m                 raise ValueError(\"Complex data not supported\\n\"\n",
      "\u001b[1;32mc:\\users\\fcarignano\\pycharmprojects\\ml_lol\\venv\\lib\\site-packages\\numpy\\core\\numeric.py\u001b[0m in \u001b[0;36masarray\u001b[1;34m(a, dtype, order)\u001b[0m\n\u001b[0;32m    536\u001b[0m \u001b[1;33m\u001b[0m\u001b[0m\n\u001b[0;32m    537\u001b[0m     \"\"\"\n\u001b[1;32m--> 538\u001b[1;33m     \u001b[1;32mreturn\u001b[0m \u001b[0marray\u001b[0m\u001b[1;33m(\u001b[0m\u001b[0ma\u001b[0m\u001b[1;33m,\u001b[0m \u001b[0mdtype\u001b[0m\u001b[1;33m,\u001b[0m \u001b[0mcopy\u001b[0m\u001b[1;33m=\u001b[0m\u001b[1;32mFalse\u001b[0m\u001b[1;33m,\u001b[0m \u001b[0morder\u001b[0m\u001b[1;33m=\u001b[0m\u001b[0morder\u001b[0m\u001b[1;33m)\u001b[0m\u001b[1;33m\u001b[0m\u001b[1;33m\u001b[0m\u001b[0m\n\u001b[0m\u001b[0;32m    539\u001b[0m \u001b[1;33m\u001b[0m\u001b[0m\n\u001b[0;32m    540\u001b[0m \u001b[1;33m\u001b[0m\u001b[0m\n",
      "\u001b[1;31mMemoryError\u001b[0m: "
     ]
    }
   ],
   "source": [
    "# Crea el modelo de Regresión Logistica\n",
    "logModelBaronsDragons = LogisticRegression()\n",
    "print('Modelo para Barones y Dragones asesinados')\n",
    "# Entrena el modelo con los datos de Barones y Dragones asesinados por cada equipo\n",
    "trainModel(inputsBaronsDragons,targetBaronsDragons,logModelBaronsDragons)\n",
    "\n",
    "logModelTowersInhibitors = LogisticRegression()\n",
    "# Entrena el modelo con los datos de Torres e Inhibdores destruidos por cada equipo\n",
    "print('Modelo para Torres e Inhibidores destruidos')\n",
    "trainModel(inputsTowersInhibitors,targetTowersInhibitors,logModelTowersInhibitors)\n",
    "\n",
    "logModelChampsAndBans = LogisticRegression()\n",
    "# Entrena el modelo con los datos de Campeones elegidos y baneados por cada equipo\n",
    "print('Modelo para Campeones elegidos y baneados por cada equipo')\n",
    "trainModel(inputsChampsAndBans,targetChampsAndBans,logModelChampsAndBans)"
   ]
  },
  {
   "cell_type": "markdown",
   "metadata": {},
   "source": [
    "B) RED NEURONALES MLP"
   ]
  },
  {
   "cell_type": "code",
   "execution_count": null,
   "metadata": {},
   "outputs": [],
   "source": [
    "# Crea el modelo de Red Neuronal MLP\n",
    "MLPModelBaronsDragons= MLPClassifier(activation='relu', solver='adam', hidden_layer_sizes=(50,), random_state=1)\n",
    "print('Modelo para Barones y Dragons asesinados')\n",
    "# Entrena el modelo con los datos de Barones y Dragones asesinados por cada equipo\n",
    "trainModel(inputsBaronsDragons,targetBaronsDragons,MLPModelBaronsDragons)\n",
    "\n",
    "MLPModelTowersInhibitors = MLPClassifier(activation='relu', solver='adam', hidden_layer_sizes=(50,), random_state=1)\n",
    "# Entrena el modelo con los datos de Torres e Inhibdores destruidos por cada equipo\n",
    "print('Modelo para Torres e Inhibidores destruidos')\n",
    "trainModel(inputsTowersInhibitors,targetTowersInhibitors,MLPModelTowersInhibitors)\n",
    "\n",
    "MLPModelChampsAndBans= MLPClassifier(activation='relu', solver='adam', hidden_layer_sizes=(50,), random_state=1)\n",
    "# Entrena el modelo con los datos de Campeones elegidos y baneados por cada equipo\n",
    "print('Modelo para Campeones elegidos y baneados por cada equipo')\n",
    "trainModel(inputsChampsAndBans,targetChampsAndBans,MLPModelChampsAndBans)\n"
   ]
  },
  {
   "cell_type": "markdown",
   "metadata": {},
   "source": [
    "C) ARBOLES DE DISICIÓN"
   ]
  },
  {
   "cell_type": "code",
   "execution_count": null,
   "metadata": {},
   "outputs": [],
   "source": [
    "# Crea el modelo Árbol de decisión\n",
    "treeModelBaronsDragons = tree.DecisionTreeClassifier()\n",
    "print('Modelo para Barones y Dragons asesinados')\n",
    "# Entrena el modelo con los datos de Barones y Dragones asesinados por cada equipo\n",
    "trainModel(inputsBaronsDragons,targetBaronsDragons,treeModelBaronsDragons)\n",
    "\n",
    "treeModelTowersInhibitors = tree.DecisionTreeClassifier()\n",
    "# Entrena el modelo con los datos de Torres e Inhibdores destruidos por cada equipo\n",
    "print('Modelo para Torres e Inhibidores destruidos')\n",
    "trainModel(inputsTowersInhibitors,targetTowersInhibitors,treeModelTowersInhibitors)\n",
    "\n",
    "treeModelChampsAndBans = tree.DecisionTreeClassifier()\n",
    "# Entrena el modelo con los datos de Campeones elegidos y baneados por cada equipo\n",
    "print('Modelo para Campeones elegidos y baneados por cada equipo')\n",
    "trainModel(inputsChampsAndBans,targetChampsAndBans,treeModelChampsAndBans)\n"
   ]
  },
  {
   "cell_type": "markdown",
   "metadata": {},
   "source": [
    "IV) Se deben utilizar técnicas que garanticen que los modelos no están sobreentrenando sin que nos demos cuenta."
   ]
  },
  {
   "cell_type": "code",
   "execution_count": null,
   "metadata": {},
   "outputs": [],
   "source": []
  },
  {
   "cell_type": "markdown",
   "metadata": {},
   "source": [
    "V) Determinar el valor final de la métrica que podría ser informado al cliente, utilizando técnicas que permitan obtener un valor lo más realista posible. Fundamentar."
   ]
  },
  {
   "cell_type": "code",
   "execution_count": null,
   "metadata": {},
   "outputs": [],
   "source": []
  },
  {
   "cell_type": "code",
   "execution_count": null,
   "metadata": {},
   "outputs": [],
   "source": []
  },
  {
   "cell_type": "code",
   "execution_count": null,
   "metadata": {},
   "outputs": [],
   "source": []
  },
  {
   "cell_type": "code",
   "execution_count": null,
   "metadata": {},
   "outputs": [],
   "source": []
  }
 ],
 "metadata": {
  "kernelspec": {
   "display_name": "Python 3",
   "language": "python",
   "name": "python3"
  },
  "language_info": {
   "codemirror_mode": {
    "name": "ipython",
    "version": 3
   },
   "file_extension": ".py",
   "mimetype": "text/x-python",
   "name": "python",
   "nbconvert_exporter": "python",
   "pygments_lexer": "ipython3",
   "version": "3.7.3"
  }
 },
 "nbformat": 4,
 "nbformat_minor": 2
}
